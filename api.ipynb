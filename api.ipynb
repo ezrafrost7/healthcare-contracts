{
 "cells": [
  {
   "cell_type": "code",
   "execution_count": 59,
   "metadata": {},
   "outputs": [
    {
     "data": {
      "text/plain": [
       "b'{\"ok\":true,\"name\":\"admin\",\"roles\":[\"_admin\"]}\\n'"
      ]
     },
     "execution_count": 59,
     "metadata": {},
     "output_type": "execute_result"
    }
   ],
   "source": [
    "import requests, json\n",
    "from bs4 import BeautifulSoup\n",
    "\n",
    "#logging into the couchdb with credentials\n",
    "url = 'http://localhost:7102/_session'\n",
    "\n",
    "session_requests = requests.session()\n",
    "req = session_requests.get(url)\n",
    "soup = BeautifulSoup(req.text, 'lxml')\n",
    "\n",
    "payload = {\n",
    "    'name' : 'admin',\n",
    "    'password' : 'adminpw'\n",
    "}\n",
    "\n",
    "req_auth = session_requests.post(\n",
    "    url,\n",
    "    data = payload\n",
    ")\n",
    "\n",
    "req_auth._content"
   ]
  },
  {
   "cell_type": "code",
   "execution_count": 60,
   "metadata": {},
   "outputs": [
    {
     "data": {
      "text/plain": [
       "{'total_rows': 3,\n",
       " 'offset': 0,\n",
       " 'rows': [{'id': '\\x00\\U0010ffffinitialized',\n",
       "   'key': '\\x00\\U0010ffffinitialized',\n",
       "   'value': {'rev': '2-6aecc838038dafca590778a7397d172d'}},\n",
       "  {'id': 'arg1',\n",
       "   'key': 'arg1',\n",
       "   'value': {'rev': '1-578f1b72f388cc0e6abb589b556117b5'}},\n",
       "  {'id': 'init0',\n",
       "   'key': 'init0',\n",
       "   'value': {'rev': '2-64102b4d3a9c6b511a0a1303911e5ee5'}}]}"
      ]
     },
     "execution_count": 60,
     "metadata": {},
     "output_type": "execute_result"
    }
   ],
   "source": [
    "url = 'http://localhost:7102/admin1_admin/_all_docs'\n",
    "req = session_requests.get(url)\n",
    "\n",
    "req.json()"
   ]
  },
  {
   "cell_type": "code",
   "execution_count": 61,
   "metadata": {},
   "outputs": [
    {
     "name": "stdout",
     "output_type": "stream",
     "text": [
      "PASSED\n",
      "{'_id': 'arg1', '_rev': '1-578f1b72f388cc0e6abb589b556117b5', 'ID': 'arg1', 'Name': 'arg2', '~version': 'CgMBCwA='}\n",
      "{'_id': 'init0', '_rev': '2-64102b4d3a9c6b511a0a1303911e5ee5', 'ID': 'init0', 'Name': 'Ledger Initiated', '~version': 'CgMBCgA='}\n"
     ]
    }
   ],
   "source": [
    "# retrieve all data from a blockchain\n",
    "url = 'http://localhost:7102/admin1_admin/_all_docs'\n",
    "req = session_requests.get(url)\n",
    "\n",
    "req.json()\n",
    "\n",
    "data = req.json()\n",
    "for asset in data['rows']:\n",
    "    try:\n",
    "        id = asset['id']\n",
    "        url = f\"http://localhost:7102/admin1_admin/{id}?attachments=true\"\n",
    "        req = session_requests.get(url)\n",
    "        print(req.json())\n",
    "    except:\n",
    "        print(\"PASSED\")\n",
    "        pass"
   ]
  },
  {
   "cell_type": "code",
   "execution_count": null,
   "metadata": {},
   "outputs": [],
   "source": []
  }
 ],
 "metadata": {
  "interpreter": {
   "hash": "727020bd5008ab5224752641a34ded94a15394adfe96f6d5865aa653964d926a"
  },
  "kernelspec": {
   "display_name": "Python 3.8.6rc1 64-bit",
   "language": "python",
   "name": "python3"
  },
  "language_info": {
   "codemirror_mode": {
    "name": "ipython",
    "version": 3
   },
   "file_extension": ".py",
   "mimetype": "text/x-python",
   "name": "python",
   "nbconvert_exporter": "python",
   "pygments_lexer": "ipython3",
   "version": "3.8.6rc1"
  },
  "orig_nbformat": 4
 },
 "nbformat": 4,
 "nbformat_minor": 2
}
